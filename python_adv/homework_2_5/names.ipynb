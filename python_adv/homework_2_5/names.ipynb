{
 "cells": [
  {
   "cell_type": "code",
   "execution_count": 3,
   "metadata": {},
   "outputs": [],
   "source": [
    "import pandas as pd"
   ]
  },
  {
   "cell_type": "code",
   "execution_count": 4,
   "metadata": {},
   "outputs": [],
   "source": [
    "def read_csv_by_dates(dates_list):\n",
    "    data_list = []\n",
    "    for date in dates_list:\n",
    "        df = pd.read_csv(f'names/yob{date}.txt', index_col='Name', names=['Name', 'Gender', 'Count'])\n",
    "        df['Year'] = date\n",
    "        data_list.append(df)\n",
    "    df = pd.concat(data_list)\n",
    "    return df\n",
    "    "
   ]
  },
  {
   "cell_type": "code",
   "execution_count": 5,
   "metadata": {},
   "outputs": [],
   "source": [
    "def count_top3(dates_list):\n",
    "    names_df = read_csv_by_dates(dates_list)\n",
    "    names_df = names_df.groupby(names_df.index).agg({'Count':sum})\n",
    "    top_3_df = names_df.sort_values(by='Count', ascending=False)[:3]\n",
    "    return top_3_df.index.tolist()\n"
   ]
  },
  {
   "cell_type": "code",
   "execution_count": 6,
   "metadata": {},
   "outputs": [
    {
     "data": {
      "text/plain": [
       "['James', 'John', 'Robert']"
      ]
     },
     "execution_count": 6,
     "metadata": {},
     "output_type": "execute_result"
    }
   ],
   "source": [
    "count_top3([1900, 1950, 2000])"
   ]
  },
  {
   "cell_type": "code",
   "execution_count": 7,
   "metadata": {},
   "outputs": [
    {
     "data": {
      "text/plain": [
       "['John', 'William', 'Mary']"
      ]
     },
     "execution_count": 7,
     "metadata": {},
     "output_type": "execute_result"
    }
   ],
   "source": [
    "count_top3([1880])"
   ]
  },
  {
   "cell_type": "code",
   "execution_count": 155,
   "metadata": {},
   "outputs": [],
   "source": [
    "def count_dynamics(dates_list):\n",
    "    result_dict = {'F': [], 'M': []}\n",
    "    names_df = read_csv_by_dates(dates_list)\n",
    "    names_df = names_df.groupby(['Gender', 'Year']).agg({'Count': sum})\n",
    "    names_df = names_df.unstack('Gender')\n",
    "    result_dict['F'] = names_df['Count', 'F'].values.tolist()\n",
    "    result_dict['M'] = names_df['Count', 'M'].values.tolist()\n",
    "    return result_dict"
   ]
  },
  {
   "cell_type": "code",
   "execution_count": 156,
   "metadata": {},
   "outputs": [
    {
     "data": {
      "text/plain": [
       "{'F': [299800, 1713151, 1815110], 'M': [150483, 1790549, 1962969]}"
      ]
     },
     "execution_count": 156,
     "metadata": {},
     "output_type": "execute_result"
    }
   ],
   "source": [
    "count_dynamics([1900, 1950, 2000])"
   ]
  }
 ],
 "metadata": {
  "kernelspec": {
   "display_name": "Python 3",
   "language": "python",
   "name": "python3"
  },
  "language_info": {
   "codemirror_mode": {
    "name": "ipython",
    "version": 3
   },
   "file_extension": ".py",
   "mimetype": "text/x-python",
   "name": "python",
   "nbconvert_exporter": "python",
   "pygments_lexer": "ipython3",
   "version": "3.7.1"
  }
 },
 "nbformat": 4,
 "nbformat_minor": 2
}
